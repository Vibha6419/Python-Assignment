{
 "cells": [
  {
   "cell_type": "markdown",
   "id": "f59741cb",
   "metadata": {},
   "source": [
    "Assignment-1\n"
   ]
  },
  {
   "cell_type": "code",
   "execution_count": null,
   "id": "3459ff3f",
   "metadata": {},
   "outputs": [],
   "source": [
    "import pandas as pd\n",
    "\n",
    "# Sample dataset\n",
    "data = {\n",
    "    'Transaction_ID': [1, 2, 3, 4, 5],\n",
    "    'Product': ['A', 'B', 'A', 'C', 'B'],\n",
    "    'Quantity': [10, 5, 2, 8, 7],\n",
    "    'Price_per_Unit': [100, 200, 100, 300, 200]\n",
    "}"
   ]
  },
  {
   "cell_type": "code",
   "execution_count": 2,
   "id": "40958e10",
   "metadata": {},
   "outputs": [],
   "source": [
    "df = pd.DataFrame(data)"
   ]
  },
  {
   "cell_type": "code",
   "execution_count": 3,
   "id": "2cfda705",
   "metadata": {},
   "outputs": [],
   "source": [
    "def calculate_average_revenue(df):\n",
    "    df['Revenue'] = df['Quantity'] * df['Price_per_Unit']\n",
    "    average_revenue = df['Revenue'].mean()\n",
    "    return average_revenue\n"
   ]
  },
  {
   "cell_type": "code",
   "execution_count": 4,
   "id": "206e6d92",
   "metadata": {},
   "outputs": [
    {
     "name": "stdout",
     "output_type": "stream",
     "text": [
      "1200.0\n"
     ]
    }
   ],
   "source": [
    "average_revenue = calculate_average_revenue(df)\n",
    "print(average_revenue)\n"
   ]
  },
  {
   "cell_type": "markdown",
   "id": "4f14db78",
   "metadata": {},
   "source": [
    "Assignment-2"
   ]
  },
  {
   "cell_type": "code",
   "execution_count": 5,
   "id": "1092810c",
   "metadata": {},
   "outputs": [],
   "source": [
    "import pandas as pd\n"
   ]
  },
  {
   "cell_type": "code",
   "execution_count": 6,
   "id": "00fdcb43",
   "metadata": {},
   "outputs": [],
   "source": [
    "data = {\n",
    "    'Transaction_ID': [1, 2, 3],\n",
    "    'Date': ['2023-08-01', '2023-08-02', '2023-08-03'],\n",
    "    'Product': ['Product A', 'Product B', 'Product C'],\n",
    "    'Quantity': [5, 10, 2],\n",
    "    'Price_per_Unit': [100, 50, 200]\n",
    "}\n"
   ]
  },
  {
   "cell_type": "code",
   "execution_count": 7,
   "id": "7076a8d5",
   "metadata": {},
   "outputs": [],
   "source": [
    "df = pd.DataFrame(data)"
   ]
  },
  {
   "cell_type": "code",
   "execution_count": 8,
   "id": "66b3f460",
   "metadata": {},
   "outputs": [],
   "source": [
    "def calculate_total_revenue(df):\n",
    "    df['Total_Price'] = df['Quantity'] * df['Price_per_Unit']\n",
    "    total_revenue = df['Total_Price'].sum()\n",
    "    return total_revenue\n"
   ]
  },
  {
   "cell_type": "code",
   "execution_count": 9,
   "id": "a45db62c",
   "metadata": {},
   "outputs": [
    {
     "name": "stdout",
     "output_type": "stream",
     "text": [
      "The total revenue is: 1400\n"
     ]
    }
   ],
   "source": [
    "total_revenue = calculate_total_revenue(df)\n",
    "print(f\"The total revenue is: {total_revenue}\")\n"
   ]
  },
  {
   "cell_type": "code",
   "execution_count": null,
   "id": "57cab3b0",
   "metadata": {},
   "outputs": [],
   "source": []
  },
  {
   "cell_type": "code",
   "execution_count": null,
   "id": "cb5297db",
   "metadata": {},
   "outputs": [],
   "source": []
  }
 ],
 "metadata": {
  "kernelspec": {
   "display_name": "Python 3 (ipykernel)",
   "language": "python",
   "name": "python3"
  },
  "language_info": {
   "codemirror_mode": {
    "name": "ipython",
    "version": 3
   },
   "file_extension": ".py",
   "mimetype": "text/x-python",
   "name": "python",
   "nbconvert_exporter": "python",
   "pygments_lexer": "ipython3",
   "version": "3.11.7"
  }
 },
 "nbformat": 4,
 "nbformat_minor": 5
}
